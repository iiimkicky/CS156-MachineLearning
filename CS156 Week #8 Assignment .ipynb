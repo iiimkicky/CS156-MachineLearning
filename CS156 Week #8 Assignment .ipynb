{
 "cells": [
  {
   "cell_type": "markdown",
   "metadata": {},
   "source": [
    "### CS156 Week #8 Assignment "
   ]
  },
  {
   "cell_type": "code",
   "execution_count": 1,
   "metadata": {},
   "outputs": [
    {
     "data": {
      "image/png": "[encoded data removed]",
      "text/plain": [
       "<matplotlib.figure.Figure at 0x1a0eaa8610>"
      ]
     },
     "metadata": {},
     "output_type": "display_data"
    },
    {
     "data": {
      "image/png": "[encoded data removed]",
      "text/plain": [
       "<matplotlib.figure.Figure at 0x108e0e890>"
      ]
     },
     "metadata": {},
     "output_type": "display_data"
    }
   ],
   "source": [
    "import matplotlib.pyplot as plt\n",
    "import pandas as pd\n",
    "import numpy as np\n",
    "import time\n",
    "from sklearn.datasets import fetch_mldata\n",
    "from sklearn import svm, metrics, datasets\n",
    "from sklearn.metrics.pairwise import rbf_kernel\n",
    "from sklearn.model_selection import train_test_split\n",
    "from sklearn.datasets import fetch_mldata\n",
    "mnist = fetch_mldata('MNIST original')\n",
    "\n",
    "#Coverting the data into a dataframe to find the class of \"1\" and \"7\"\n",
    "data = pd.DataFrame(data= np.c_[mnist['data'], mnist['target']])\n",
    "data1 = data.loc[data[784] == 1]\n",
    "data7 = data.loc[data[784] == 7]\n",
    "dataset = pd.concat([data1, data7], ignore_index=True)\n",
    "\n",
    "#Separating the data and the lables\n",
    "X = dataset.drop(784, axis=1)\n",
    "y = dataset[784]\n",
    "\n",
    "#Plotting images from the data\n",
    "%matplotlib inline\n",
    "plt.figure(1)\n",
    "img1 = np.array(X.iloc[[2]]).reshape(28,28)\n",
    "plt.imshow(img1, cmap=plt.cm.gray_r, interpolation='nearest')\n",
    "plt.title(\"Example image of 1\")\n",
    "\n",
    "plt.figure(2)\n",
    "img7 = np.array(X.iloc[[80]]).reshape(28,28)\n",
    "plt.imshow(img7, cmap=plt.cm.gray_r, interpolation='nearest')\n",
    "plt.title(\"Example image of 7\")\n",
    "\n",
    "plt.show()\n"
   ]
  },
  {
   "cell_type": "code",
   "execution_count": 2,
   "metadata": {},
   "outputs": [
    {
     "name": "stdout",
     "output_type": "stream",
     "text": [
      "SV with Linear Kernal run in 3.001 s\n",
      "             precision    recall  f1-score   support\n",
      "\n",
      "        1.0       0.99      1.00      1.00      1545\n",
      "        7.0       1.00      0.99      1.00      1489\n",
      "\n",
      "avg / total       1.00      1.00      1.00      3034\n",
      "\n",
      "The accuracy is:  0.995715227423\n",
      "SV with Polinomial Kernal run in 4.243 s\n",
      "             precision    recall  f1-score   support\n",
      "\n",
      "        1.0       1.00      1.00      1.00      1545\n",
      "        7.0       1.00      1.00      1.00      1489\n",
      "\n",
      "avg / total       1.00      1.00      1.00      3034\n",
      "\n",
      "The accuracy is:  0.996374423204\n",
      "SV with rbf Kernal run in 350.208 s\n",
      "             precision    recall  f1-score   support\n",
      "\n",
      "        1.0       0.51      1.00      0.67      1545\n",
      "        7.0       0.00      0.00      0.00      1489\n",
      "\n",
      "avg / total       0.26      0.51      0.34      3034\n",
      "\n",
      "The accuracy is: "
     ]
    },
    {
     "name": "stderr",
     "output_type": "stream",
     "text": [
      "/Users/work_account/anaconda2/lib/python2.7/site-packages/sklearn/metrics/classification.py:1135: UndefinedMetricWarning: Precision and F-score are ill-defined and being set to 0.0 in labels with no predicted samples.\n",
      "  'precision', 'predicted', average, warn_for)\n"
     ]
    },
    {
     "name": "stdout",
     "output_type": "stream",
     "text": [
      " 0.509228740936\n"
     ]
    }
   ],
   "source": [
    "train_x, test_x, train_y, test_y = train_test_split(X, y, test_size=0.2, random_state = 123456)\n",
    "\n",
    "######Linear Kernal\n",
    "t1 = time.time()\n",
    "linear_svc = svm.SVC(kernel='linear')\n",
    "linear_svc.fit(train_x,train_y)\n",
    "predictions1 = linear_svc.predict(test_x)\n",
    "\n",
    "t12 = time.time()\n",
    "run_time = t12 - t1\n",
    "print('SV with Linear Kernal run in %.3f s' % run_time)\n",
    "print metrics.classification_report(test_y, predictions1)\n",
    "print \"The accuracy is: \", linear_svc.score(test_x, test_y)\n",
    "\n",
    "######Polynomial Kernal\n",
    "t2 = time.time()\n",
    "poly_svc = svm.SVC(kernel='poly')\n",
    "poly_svc.fit(train_x,train_y)\n",
    "predictions2 = poly_svc.predict(test_x)\n",
    "\n",
    "t22 = time.time()\n",
    "run_time = t22 - t2\n",
    "print('SV with Polinomial Kernal run in %.3f s' % run_time)\n",
    "print metrics.classification_report(test_y, predictions2)\n",
    "print \"The accuracy is: \", poly_svc.score(test_x, test_y)\n",
    "\n",
    "######rbf kernal \n",
    "t3 = time.time()\n",
    "rbf_svc = svm.SVC(kernel='rbf')\n",
    "rbf_svc.fit(train_x,train_y)\n",
    "predictions3 = rbf_svc.predict(test_x)\n",
    "\n",
    "t32 = time.time()\n",
    "run_time = t32 - t3\n",
    "print('SV with rbf Kernal run in %.3f s' % run_time)\n",
    "print metrics.classification_report(test_y, predictions3)\n",
    "print \"The accuracy is: \", rbf_svc.score(test_x, test_y)\n",
    "\n"
   ]
  },
  {
   "cell_type": "markdown",
   "metadata": {
    "collapsed": true
   },
   "source": [
    "\n",
    "\n",
    "Polynomial and Linear Kernals both yield pretty decent accuracies and precisions, and on top of that, didn't take too much time to run. RBF kernal performed rather poorly with this SVM classification, both in terms of accuracy (only around 50%) and time (over 350 seconds). "
   ]
  }
 ],
 "metadata": {
  "kernelspec": {
   "display_name": "Python 2",
   "language": "python",
   "name": "python2"
  },
  "language_info": {
   "codemirror_mode": {
    "name": "ipython",
    "version": 2
   },
   "file_extension": ".py",
   "mimetype": "text/x-python",
   "name": "python",
   "nbconvert_exporter": "python",
   "pygments_lexer": "ipython2",
   "version": "2.7.13"
  }
 },
 "nbformat": 4,
 "nbformat_minor": 2
}
