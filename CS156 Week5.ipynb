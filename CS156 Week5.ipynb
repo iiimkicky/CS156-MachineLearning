{
 "cells": [
  {
   "cell_type": "code",
   "execution_count": 2,
   "metadata": {},
   "outputs": [],
   "source": [
    "import numpy as np\n",
    "from numpy.random import RandomState\n",
    "from glob import glob\n",
    "from PIL import Image\n",
    "from sklearn.discriminant_analysis import LinearDiscriminantAnalysis\n",
    "from sklearn import decomposition\n",
    "from sklearn.decomposition import PCA\n",
    "from sklearn.linear_model import LogisticRegression\n",
    "from sklearn import metrics\n",
    "from sklearn.model_selection import train_test_split\n",
    "\n",
    "STANDARD_SIZE = (100,120) #Chose a relatively small one to speed up the process\n",
    "\n",
    "#To trasform the file it into a numpy array of RGB pixels\n",
    "def img_to_array(filename): \n",
    "    img = Image.open(filename)\n",
    "    img = img.resize(STANDARD_SIZE)\n",
    "    img = list(img.getdata())\n",
    "    img = map(list, img)\n",
    "    img = np.array(img)\n",
    "    s = img.shape[0] * img.shape[1]\n",
    "    img_wide = img.reshape(1, s)\n",
    "    return img_wide[0]\n",
    "\n",
    "man_files = glob('Sample/Man/*.JPEG')\n",
    "woman_files = glob('Sample/Woman/*.JPEG')\n",
    "\n",
    "process_file = img_to_array\n",
    "raw_data = [(process_file(filename),'woman',filename) for filename in woman_files] + \\\n",
    "           [(process_file(filename),'man',filename) for filename in man_files]\n",
    "\n",
    "# pull out the features and the labels\n",
    "data = np.array([cd for (cd,_y,f) in raw_data])\n",
    "gender = np.array([_y for (cd,_y,f) in raw_data])\n",
    "labels = [1 if label == 'man' else 0 for label in gender]"
   ]
  },
  {
   "cell_type": "code",
   "execution_count": 3,
   "metadata": {},
   "outputs": [
    {
     "name": "stdout",
     "output_type": "stream",
     "text": [
      "(600, 36000)\n"
     ]
    }
   ],
   "source": [
    "print data.shape"
   ]
  },
  {
   "cell_type": "markdown",
   "metadata": {},
   "source": [
    "**1.Build a simple linear classifier using the original pixel data. What is your error rate on the training data? What is your error rate on your testing data?**"
   ]
  },
  {
   "cell_type": "code",
   "execution_count": 69,
   "metadata": {},
   "outputs": [
    {
     "name": "stdout",
     "output_type": "stream",
     "text": [
      "             precision    recall  f1-score   support\n",
      "\n",
      "          0       0.65      0.65      0.65        60\n",
      "          1       0.65      0.65      0.65        60\n",
      "\n",
      "avg / total       0.65      0.65      0.65       120\n",
      "\n",
      "             precision    recall  f1-score   support\n",
      "\n",
      "          0       0.60      0.63      0.62        60\n",
      "          1       0.61      0.58      0.60        60\n",
      "\n",
      "avg / total       0.61      0.61      0.61       120\n",
      "\n",
      "1.0\n"
     ]
    }
   ],
   "source": [
    "#logreg\n",
    "train_x, test_x, train_y, test_y = train_test_split(data, labels, test_size=0.2, random_state = 123)\n",
    "logreg = LogisticRegression()\n",
    "logreg.fit(train_x,train_y)\n",
    "\n",
    "predictions_train = logreg.predict(train_x)\n",
    "print metrics.classification_report(test_y,predictions)\n",
    "\n",
    "predictions_test = logreg.predict(test_x)\n",
    "print metrics.classification_report(test_y,predictions_test)\n",
    "\n",
    "print logreg.score(test_x,predictions_test)"
   ]
  },
  {
   "cell_type": "markdown",
   "metadata": {},
   "source": [
    "**2.Train the same linear model as in question 1, but now on the reduced representation that you created using PCA. What is your error rate on the training data? What is your error rate on your testing data?**"
   ]
  },
  {
   "cell_type": "code",
   "execution_count": 71,
   "metadata": {},
   "outputs": [
    {
     "name": "stdout",
     "output_type": "stream",
     "text": [
      "             precision    recall  f1-score   support\n",
      "\n",
      "          0       0.66      0.67      0.67       242\n",
      "          1       0.66      0.65      0.65       238\n",
      "\n",
      "avg / total       0.66      0.66      0.66       480\n",
      "\n",
      "             precision    recall  f1-score   support\n",
      "\n",
      "          0       0.61      0.66      0.63        58\n",
      "          1       0.66      0.61      0.63        62\n",
      "\n",
      "avg / total       0.63      0.63      0.63       120\n",
      "\n",
      "1.0\n"
     ]
    }
   ],
   "source": [
    "#PCA\n",
    "N_COMPONENTS = 10\n",
    "pca = PCA(n_components=N_COMPONENTS, random_state=0)\n",
    "X_pca = pca.fit_transform(data)\n",
    "\n",
    "pca_train_x, pca_test_x, pca_train_y, pca_test_y = train_test_split(X_pca, labels, test_size=0.2, random_state = 234)\n",
    "logreg_pca = LogisticRegression()\n",
    "logreg_pca.fit(pca_train_x,pca_train_y)\n",
    "\n",
    "predictions_pca_train = logreg_pca.predict(pca_train_x)\n",
    "print metrics.classification_report(pca_train_y, predictions_pca_train)\n",
    "\n",
    "predictions_pca_test = logreg_pca.predict(pca_test_x)\n",
    "print metrics.classification_report(pca_test_y, predictions_pca_test)\n",
    "\n",
    "print logreg_pca.score(pca_test_x,predictions_pca_test)"
   ]
  },
  {
   "cell_type": "markdown",
   "metadata": {},
   "source": [
    "**3.Train the same linear model as in question 1, but now on the reduced representation that you created using LDA. What is your error rate on the training data? What is your error rate on your testing data?**"
   ]
  },
  {
   "cell_type": "code",
   "execution_count": 72,
   "metadata": {},
   "outputs": [
    {
     "name": "stdout",
     "output_type": "stream",
     "text": [
      "             precision    recall  f1-score   support\n",
      "\n",
      "          0       0.93      0.92      0.93       240\n",
      "          1       0.92      0.93      0.93       240\n",
      "\n",
      "avg / total       0.93      0.93      0.93       480\n",
      "\n",
      "             precision    recall  f1-score   support\n",
      "\n",
      "          0       0.93      0.92      0.92        60\n",
      "          1       0.92      0.93      0.93        60\n",
      "\n",
      "avg / total       0.93      0.93      0.92       120\n",
      "\n",
      "LDA score 0.916666666667\n"
     ]
    }
   ],
   "source": [
    "#LDA\n",
    "N = 10\n",
    "lda = LinearDiscriminantAnalysis(n_components=N)\n",
    "X_lda = lda.fit_transform(data,labels)\n",
    "\n",
    "lda_train_x, lda_test_x, lda_train_y, lda_test_y = train_test_split(\n",
    "    X_lda, labels, test_size=0.2, random_state = 123)\n",
    "\n",
    "lda.fit(lda_train_x,lda_train_y)\n",
    "\n",
    "logreg_lda = LogisticRegression()\n",
    "logreg_lda.fit(lda_train_x,lda_train_y)\n",
    "\n",
    "predictions_lda_train = logreg_lda.predict(lda_train_x)\n",
    "print metrics.classification_report(lda_train_y, predictions_lda_train)\n",
    "\n",
    "predictions_lda_test = logreg_lda.predict(lda_test_x)\n",
    "print metrics.classification_report(lda_test_y, predictions_lda_test)\n",
    "\n",
    "print \"LDA score\",lda.score(lda_test_x,lda_test_y)"
   ]
  },
  {
   "cell_type": "markdown",
   "metadata": {},
   "source": [
    "**4.Write three paragraphs, describing and interpreting your results from questions 1, 2, and 3. Make a recommendation on which classifier you would prefer, and why.**\n",
    "\n",
    "\n",
    "Overall, the results show that with this dataset specifically, LDA achieve the highest accuracy, PCA and logistic regression attain similar accuracies with PCA being slightly better. Since the original dataset was very large, I randomly chose 300 pictures for both men and women to run the code above. \n",
    "\n",
    "PCA is an unsupervised method that reduces dimensions by looking for the variables that have the most variances, which in some cases, are not necessarily the most predictive one. This could explain why logistic regression on data processed by PCA didn't perform significantly better than simply running logistic regression. \n",
    "\n",
    "In contrast, LDA is a supervised method and takes the lable of data into account, which makes it more idea in this case since we have the labels available. It yields a nice outcome, with mean accuracy of 91.6% and high precisions for the test dataset.\n",
    "\n",
    "In choosing classification methods, we need to first see if the class of data is available, as LDA requires that information and PCA doesn't. LDA and PCA can be used on datasets with more than two classes versus Logistical Regression can only work with datasets with 2 classes. I would prefer LDA most of the time, especially if the constraints are met.\n",
    "\n",
    "\n",
    "*Reference: For some parts of the image processing, I used the code in eigenfashion blogpost for class: https://github.com/joelgrus/shirts/blob/master/visuals.py*"
   ]
  }
 ],
 "metadata": {
  "kernelspec": {
   "display_name": "Python 2",
   "language": "python",
   "name": "python2"
  },
  "language_info": {
   "codemirror_mode": {
    "name": "ipython",
    "version": 2
   },
   "file_extension": ".py",
   "mimetype": "text/x-python",
   "name": "python",
   "nbconvert_exporter": "python",
   "pygments_lexer": "ipython2",
   "version": "2.7.13"
  }
 },
 "nbformat": 4,
 "nbformat_minor": 2
}
